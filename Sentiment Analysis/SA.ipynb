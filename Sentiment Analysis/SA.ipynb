{
 "cells": [
  {
   "cell_type": "code",
   "execution_count": 12,
   "id": "f1d89521",
   "metadata": {},
   "outputs": [
    {
     "name": "stderr",
     "output_type": "stream",
     "text": [
      "C:\\Users\\SHREEJIT\\AppData\\Local\\Temp\\ipykernel_7884\\2896979432.py:28: FutureWarning: The frame.append method is deprecated and will be removed from pandas in a future version. Use pandas.concat instead.\n",
      "  df=df1.append(df2)\n"
     ]
    },
    {
     "name": "stdout",
     "output_type": "stream",
     "text": [
      "Model: \"sequential_1\"\n",
      "_________________________________________________________________\n",
      " Layer (type)                Output Shape              Param #   \n",
      "=================================================================\n",
      " embedding_1 (Embedding)     (None, 20, 128)           10240000  \n",
      "                                                                 \n",
      " spatial_dropout1d (SpatialD  (None, 20, 128)          0         \n",
      " ropout1D)                                                       \n",
      "                                                                 \n",
      " conv1d_2 (Conv1D)           (None, 20, 34)            21794     \n",
      "                                                                 \n",
      " spatial_dropout1d_1 (Spatia  (None, 20, 34)           0         \n",
      " lDropout1D)                                                     \n",
      "                                                                 \n",
      " lstm_2 (LSTM)               (None, 20, 28)            7056      \n",
      "                                                                 \n",
      " conv1d_3 (Conv1D)           (None, 20, 34)            2890      \n",
      "                                                                 \n",
      " spatial_dropout1d_2 (Spatia  (None, 20, 34)           0         \n",
      " lDropout1D)                                                     \n",
      "                                                                 \n",
      " lstm_3 (LSTM)               (None, 28)                7056      \n",
      "                                                                 \n",
      " flatten_1 (Flatten)         (None, 28)                0         \n",
      "                                                                 \n",
      " dense_1 (Dense)             (None, 1)                 29        \n",
      "                                                                 \n",
      "=================================================================\n",
      "Total params: 10,278,825\n",
      "Trainable params: 10,278,825\n",
      "Non-trainable params: 0\n",
      "_________________________________________________________________\n",
      "Epoch 1/1001\n",
      "344/344 [==============================] - 116s 313ms/step - loss: 0.1303 - binary_accuracy: 0.7461 - val_loss: 0.1181 - val_binary_accuracy: 0.7860\n",
      "Epoch 2/1001\n",
      "344/344 [==============================] - 109s 317ms/step - loss: 0.1021 - binary_accuracy: 0.8244 - val_loss: 0.1204 - val_binary_accuracy: 0.7826\n",
      "Epoch 3/1001\n",
      "344/344 [==============================] - 113s 330ms/step - loss: 0.0830 - binary_accuracy: 0.8624 - val_loss: 0.1305 - val_binary_accuracy: 0.7719\n",
      "Epoch 4/1001\n",
      "344/344 [==============================] - 96s 279ms/step - loss: 0.0685 - binary_accuracy: 0.8891 - val_loss: 0.1474 - val_binary_accuracy: 0.7651\n",
      "Epoch 5/1001\n",
      "344/344 [==============================] - 104s 304ms/step - loss: 0.0576 - binary_accuracy: 0.9075 - val_loss: 0.1889 - val_binary_accuracy: 0.7634\n",
      "Epoch 6/1001\n",
      "344/344 [==============================] - 102s 296ms/step - loss: 0.0496 - binary_accuracy: 0.9208 - val_loss: 0.1920 - val_binary_accuracy: 0.7569\n",
      "Epoch 7/1001\n",
      "344/344 [==============================] - 100s 290ms/step - loss: 0.0436 - binary_accuracy: 0.9309 - val_loss: 0.2279 - val_binary_accuracy: 0.7598\n",
      "Epoch 8/1001\n",
      "344/344 [==============================] - 101s 294ms/step - loss: 0.0399 - binary_accuracy: 0.9368 - val_loss: 0.2551 - val_binary_accuracy: 0.7545\n",
      "Epoch 9/1001\n",
      "344/344 [==============================] - 96s 278ms/step - loss: 0.0366 - binary_accuracy: 0.9423 - val_loss: 0.2741 - val_binary_accuracy: 0.7575\n",
      "Epoch 10/1001\n",
      "344/344 [==============================] - 99s 288ms/step - loss: 0.0339 - binary_accuracy: 0.9466 - val_loss: 0.2831 - val_binary_accuracy: 0.7544\n",
      "Epoch 11/1001\n",
      "344/344 [==============================] - 94s 274ms/step - loss: 0.0318 - binary_accuracy: 0.9499 - val_loss: 0.3052 - val_binary_accuracy: 0.7535\n"
     ]
    }
   ],
   "source": [
    "import numpy as np\n",
    "import pandas as pd\n",
    "# pd.set_option('display.max_rows', None)\n",
    "import tensorflow as tf\n",
    "from tensorflow import keras\n",
    "import matplotlib.pyplot as plt\n",
    "import random\n",
    "import math\n",
    "import re\n",
    "import contractions\n",
    "import nltk #Natural Language Toolkit\n",
    "# nltk.download('stopwords')\n",
    "from tensorflow.keras.preprocessing.text import Tokenizer\n",
    "from tensorflow.keras.preprocessing.sequence import pad_sequences\n",
    "import keras_tuner\n",
    "from kerastuner.tuners import RandomSearch\n",
    "from kerastuner.engine.hyperparameters import HyperParameters\n",
    "import time\n",
    "from nltk.corpus import stopwords\n",
    "from sklearn.model_selection import train_test_split\n",
    "from sklearn.metrics import classification_report\n",
    "\n",
    "LOG = f'{int(time.time())}'\n",
    "\n",
    "df1=pd.read_csv('train.csv')\n",
    "df2=pd.read_csv('test.csv')\n",
    "df2.rename(columns = {' sentiment ':'sentiment', ' text ':'text'}, inplace = True)\n",
    "df=df1.append(df2)\n",
    "df.reset_index(drop=True, inplace=True)\n",
    "df.dropna(inplace=True)\n",
    "df['text']=df['text'].str.lower()\n",
    "def fix_puntuation(text):\n",
    "  return re.sub(\"`\",\"'\",text)\n",
    "df['text']=df['text'].astype(str).apply(lambda x: fix_puntuation(x))\n",
    "def fix_contraction(text):\n",
    "  return contractions.fix(text)\n",
    "df['text']=df['text'].astype(str).apply(lambda x: fix_contraction(x))\n",
    "def cleaning(text):\n",
    "  text=re.sub('[^a-zA-Z]|https?://\\S+|www.\\.\\S+|<.*?|0-9>',\" \",text) #except a-z, A-Z, 0-9 remaining all are are substituted as ' \n",
    "  text=re.sub('\\s+',' ',text) #additional spaces are removed using this statement\n",
    "  return text\n",
    "df['text']=df['text'].astype(str).apply(lambda x: cleaning(x))\n",
    "s=list(stopwords.words('english'))\n",
    "s.remove('no')\n",
    "s.remove('nor')\n",
    "s.remove('not')\n",
    "s=set(s)\n",
    "def rem_s(text):\n",
    "  return \" \".join([word for word in text.split()if word not in s])\n",
    "df['text']=df['text'].astype(str).apply(lambda x: rem_s(x))\n",
    "X=df['text']\n",
    "y=df['sentiment']\n",
    "vocab_size=80000\n",
    "max_length=20\n",
    "trunc_type='post'\n",
    "oov_tok='<OOV>'\n",
    "tokenizer = Tokenizer(num_words=vocab_size,oov_token=oov_tok)\n",
    "tokenizer.fit_on_texts(df['text'])\n",
    "word_index = tokenizer.word_index\n",
    "sequences = tokenizer.texts_to_sequences(df['text'])\n",
    "padded = pad_sequences(sequences, padding='post', truncating=trunc_type, maxlen=max_length)\n",
    "X_dl=padded\n",
    "y=df['sentiment']\n",
    "X_train,X_test,y_train,y_test=train_test_split(X_dl,y,test_size=0.1,random_state=2401,shuffle=True)\n",
    "\n",
    "model = tf.keras.models.Sequential()\n",
    "model.add(tf.keras.layers.Embedding(80000, 128, input_length=max_length))\n",
    "model.add(tf.keras.layers.SpatialDropout1D(0.2))\n",
    "model.add(tf.keras.layers.Conv1D(34,5,activation='relu',padding='same'))\n",
    "model.add(tf.keras.layers.SpatialDropout1D(0.2))\n",
    "model.add(tf.keras.layers.LSTM(28, dropout=0.2, recurrent_dropout=0.2, return_sequences=True))\n",
    "model.add(tf.keras.layers.Conv1D(34,3,activation='relu',padding='same'))\n",
    "model.add(tf.keras.layers.SpatialDropout1D(0.2))\n",
    "model.add(tf.keras.layers.LSTM(28, dropout=0.2, recurrent_dropout=0.2, return_sequences=False))\n",
    "model.add(tf.keras.layers.Flatten())\n",
    "model.add(tf.keras.layers.Dense(1,activation='sigmoid'))\n",
    "model.compile(loss=tf.keras.losses.BinaryFocalCrossentropy(gamma=2,from_logits=False),optimizer=keras.optimizers.Adam(learning_rate=0.0016438),metrics=[tf.keras.metrics.BinaryAccuracy()])\n",
    "model.summary()\n",
    "\n",
    "epochs=1001\n",
    "history=model.fit(X_train, y_train, epochs=epochs, batch_size = 500,validation_split=0.1,callbacks = [tf.keras.callbacks.EarlyStopping(\n",
    "    monitor='val_binary_accuracy',\n",
    "    min_delta=0,\n",
    "    patience=10,\n",
    "    verbose=0,\n",
    "    mode='auto',\n",
    "    baseline=None,\n",
    "    restore_best_weights=False\n",
    ")])"
   ]
  },
  {
   "cell_type": "code",
   "execution_count": 20,
   "id": "72f34eb3",
   "metadata": {},
   "outputs": [
    {
     "name": "stdout",
     "output_type": "stream",
     "text": [
      "663/663 [==============================] - 12s 16ms/step - loss: 0.8082 - binary_accuracy: 0.4996\n"
     ]
    },
    {
     "data": {
      "text/plain": [
       "[0.8081512451171875, 0.4995518624782562]"
      ]
     },
     "execution_count": 20,
     "metadata": {},
     "output_type": "execute_result"
    }
   ],
   "source": [
    "model.evaluate(X_test_dl,y_test)"
   ]
  },
  {
   "cell_type": "code",
   "execution_count": 14,
   "id": "797c2f16",
   "metadata": {},
   "outputs": [
    {
     "name": "stdout",
     "output_type": "stream",
     "text": [
      "663/663 [==============================] - 10s 12ms/step\n"
     ]
    },
    {
     "data": {
      "text/plain": [
       "array([[0.860168  ],\n",
       "       [0.8586073 ],\n",
       "       [0.27237862],\n",
       "       ...,\n",
       "       [0.70185226],\n",
       "       [0.0405547 ],\n",
       "       [0.6773085 ]], dtype=float32)"
      ]
     },
     "execution_count": 14,
     "metadata": {},
     "output_type": "execute_result"
    }
   ],
   "source": [
    "from sklearn.metrics import classification_report\n",
    "y_pred=model.predict(X_test)\n",
    "y_pred"
   ]
  },
  {
   "cell_type": "code",
   "execution_count": 15,
   "id": "9ff32786",
   "metadata": {},
   "outputs": [
    {
     "data": {
      "image/png": "[encoded data removed]",
      "text/plain": [
       "<Figure size 864x432 with 1 Axes>"
      ]
     },
     "metadata": {
      "needs_background": "light"
     },
     "output_type": "display_data"
    }
   ],
   "source": [
    "plt.figure(figsize=(12,6))\n",
    "epochs = len(history.history['binary_accuracy'])\n",
    "plt.plot(range(epochs),history.history['binary_accuracy'],label='Training Accuracy',color='r')\n",
    "plt.plot(range(epochs),history.history['val_binary_accuracy'],label='Validation Accuracy',color='black')\n",
    "\n",
    "plt.xlabel(\"Epoch\")\n",
    "plt.ylabel(\"Accuracy\")\n",
    "\n",
    "plt.legend()\n",
    "plt.title('Accuracy v/s Time')\n",
    "\n",
    "plt.show()"
   ]
  },
  {
   "cell_type": "code",
   "execution_count": 16,
   "id": "8cb21852",
   "metadata": {},
   "outputs": [
    {
     "data": {
      "text/plain": [
       "array([[1],\n",
       "       [1],\n",
       "       [0],\n",
       "       ...,\n",
       "       [1],\n",
       "       [0],\n",
       "       [1]])"
      ]
     },
     "execution_count": 16,
     "metadata": {},
     "output_type": "execute_result"
    }
   ],
   "source": [
    "for i in range(len(y_pred)):\n",
    "  if y_pred[i]>=0.5:\n",
    "    y_pred[i]=1\n",
    "  else:\n",
    "    y_pred[i]=0\n",
    "y_pred=np.array(y_pred).astype(int)\n",
    "y_pred"
   ]
  },
  {
   "cell_type": "code",
   "execution_count": 17,
   "id": "329c1304",
   "metadata": {},
   "outputs": [],
   "source": [
    "from sklearn.metrics import classification_report, confusion_matrix"
   ]
  },
  {
   "cell_type": "code",
   "execution_count": 18,
   "id": "eb4787a5",
   "metadata": {},
   "outputs": [
    {
     "name": "stdout",
     "output_type": "stream",
     "text": [
      "              precision    recall  f1-score   support\n",
      "\n",
      "           0       0.74      0.77      0.75     10528\n",
      "           1       0.76      0.73      0.75     10671\n",
      "\n",
      "    accuracy                           0.75     21199\n",
      "   macro avg       0.75      0.75      0.75     21199\n",
      "weighted avg       0.75      0.75      0.75     21199\n",
      "\n"
     ]
    }
   ],
   "source": [
    "print(classification_report(y_test,y_pred))"
   ]
  },
  {
   "cell_type": "code",
   "execution_count": 25,
   "id": "330cd971",
   "metadata": {},
   "outputs": [
    {
     "data": {
      "image/png": "[encoded data removed]",
      "text/plain": [
       "<Figure size 540x540 with 1 Axes>"
      ]
     },
     "metadata": {
      "needs_background": "light"
     },
     "output_type": "display_data"
    }
   ],
   "source": [
    "conf_matrix = confusion_matrix(y_true=y_test, y_pred=y_pred)\n",
    "fig, ax = plt.subplots(figsize=(7.5, 7.5))\n",
    "ax.matshow(conf_matrix, cmap='RdYlBu', alpha=0.7)\n",
    "for i in range(conf_matrix.shape[0]):\n",
    "    for j in range(conf_matrix.shape[1]):\n",
    "        ax.text(x=j, y=i,s=conf_matrix[i, j], va='center', ha='center', size='xx-large')\n",
    " \n",
    "plt.xlabel('Predictions', fontsize=18)\n",
    "plt.ylabel('Actuals', fontsize=18)\n",
    "plt.title('Confusion Matrix', fontsize=18)\n",
    "plt.show()"
   ]
  },
  {
   "cell_type": "code",
   "execution_count": 15,
   "id": "d9698823",
   "metadata": {},
   "outputs": [
    {
     "name": "stdout",
     "output_type": "stream",
     "text": [
      "^C\n"
     ]
    }
   ],
   "source": [
    "!pip install contractions nltk keras-tuner --quiet"
   ]
  },
  {
   "cell_type": "code",
   "execution_count": null,
   "id": "f8ebbbbb",
   "metadata": {},
   "outputs": [],
   "source": []
  }
 ],
 "metadata": {
  "kernelspec": {
   "display_name": "Python 3 (ipykernel)",
   "language": "python",
   "name": "python3"
  },
  "language_info": {
   "codemirror_mode": {
    "name": "ipython",
    "version": 3
   },
   "file_extension": ".py",
   "mimetype": "text/x-python",
   "name": "python",
   "nbconvert_exporter": "python",
   "pygments_lexer": "ipython3",
   "version": "3.9.12"
  }
 },
 "nbformat": 4,
 "nbformat_minor": 5
}
